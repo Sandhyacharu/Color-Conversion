{
 "cells": [
  {
   "cell_type": "code",
   "execution_count": 1,
   "id": "7d6568e3",
   "metadata": {},
   "outputs": [],
   "source": [
    "import cv2"
   ]
  },
  {
   "cell_type": "code",
   "execution_count": 2,
   "id": "654e9fa1",
   "metadata": {},
   "outputs": [],
   "source": [
    "house_color_image = cv2.imread('image.jpg')"
   ]
  },
  {
   "cell_type": "code",
   "execution_count": 3,
   "id": "22cd0444",
   "metadata": {},
   "outputs": [],
   "source": [
    "cv2.imshow('212220230041',house_color_image)\n",
    "cv2.waitKey(0)\n",
    "cv2.destroyAllWindows()"
   ]
  },
  {
   "cell_type": "code",
   "execution_count": 5,
   "id": "56227818",
   "metadata": {},
   "outputs": [],
   "source": [
    "#BGR2HSV & #RGB2HSV\n",
    "hsv_image = cv2.cvtColor(house_color_image,cv2.COLOR_BGR2HSV)\n",
    "cv2.imshow('BGR2HSV',hsv_image)\n",
    "hsv_image1 = cv2.cvtColor(house_color_image,cv2.COLOR_RGB2HSV)\n",
    "cv2.imshow('RGB2HSV',hsv_image1)\n",
    "cv2.waitKey(0)\n",
    "cv2.destroyAllWindows()\n"
   ]
  },
  {
   "cell_type": "code",
   "execution_count": 14,
   "id": "4002d059",
   "metadata": {},
   "outputs": [],
   "source": [
    "#BGR2GRAY & #RGB2GRAY\n",
    "gray_image = cv2.cvtColor(house_color_image,cv2.COLOR_BGR2GRAY)\n",
    "cv2.imshow('BGR2GRAY',gray_image)\n",
    "gray_image1 = cv2.cvtColor(house_color_image,cv2.COLOR_RGB2GRAY)\n",
    "cv2.imshow('RGB2GRAY',gray_image1)\n",
    "cv2.waitKey(0)\n",
    "cv2.destroyAllWindows()"
   ]
  },
  {
   "cell_type": "code",
   "execution_count": 4,
   "id": "39fc1eea",
   "metadata": {},
   "outputs": [],
   "source": [
    "#HSV2RGB & #HSV2BGR\n",
    "RGB_image = cv2.cvtColor(house_color_image,cv2.COLOR_HSV2RGB)\n",
    "cv2.imshow('RGB2GRAY',RGB_image)\n",
    "BGR_image = cv2.cvtColor(house_color_image,cv2.COLOR_HSV2BGR)\n",
    "cv2.imshow('HSV2BGR',BGR_image)\n",
    "cv2.waitKey(0)\n",
    "cv2.destroyAllWindows()"
   ]
  },
  {
   "cell_type": "code",
   "execution_count": 16,
   "id": "c7698814",
   "metadata": {},
   "outputs": [],
   "source": [
    "#RGB2YCrCb & #BGR2YCrCb\n",
    "YCrCb_image = cv2.cvtColor(house_color_image, cv2.COLOR_RGB2YCrCb)\n",
    "cv2.imshow('RGB2YCrCb',YCrCb_image)\n",
    "YCrCb_image1 = cv2.cvtColor(house_color_image, cv2.COLOR_BGR2YCrCb)\n",
    "cv2.imshow('BGR2YCrCb',YCrCb_image1)\n",
    "cv2.waitKey(0)\n",
    "cv2.destroyAllWindows()"
   ]
  },
  {
   "cell_type": "code",
   "execution_count": 5,
   "id": "2d630aa3",
   "metadata": {
    "scrolled": true
   },
   "outputs": [],
   "source": [
    "#Spliting and Merging RGB Image\n",
    "Blue = RGB_image[:,:,0]\n",
    "Green = RGB_image[:,:,1]\n",
    "Red = RGB_image[:,:,2]\n",
    "cv2.merge((Red,Blue,Green))\n",
    "cv2.merge((Blue,Green,Red))\n",
    "cv2.imshow(\"RED\",Red)\n",
    "cv2.imshow(\"BLUE\",Blue)\n",
    "cv2.imshow(\"GREEN\",Green)\n",
    "Merged = cv2.merge([Red,Blue,Green])\n",
    "cv2.imshow('Rgb',Merged)\n",
    "cv2.waitKey(0)\n",
    "cv2.destroyAllWindows()\n"
   ]
  },
  {
   "cell_type": "code",
   "execution_count": null,
   "id": "369b4511",
   "metadata": {},
   "outputs": [],
   "source": [
    "#Spliting & Merging HSV Image\n",
    "h, s, v = cv2.split(hsv_image)\n",
    "cv2.merge((h,s,v))\n",
    "cv2.imshow(\"h plane\",h)\n",
    "cv2.imshow(\"s plane\",s)\n",
    "cv2.imshow(\"v plane\",v)\n",
    "merged = cv2.merge([h,s,v])\n",
    "cv2.imshow('hsv_merge',merged)\n",
    "cv2.waitKey(0)\n",
    "cv2.destroyAllWindows()"
   ]
  },
  {
   "cell_type": "code",
   "execution_count": null,
   "id": "bbfdb36f",
   "metadata": {},
   "outputs": [],
   "source": []
  }
 ],
 "metadata": {
  "kernelspec": {
   "display_name": "Python 3",
   "language": "python",
   "name": "python3"
  },
  "language_info": {
   "codemirror_mode": {
    "name": "ipython",
    "version": 3
   },
   "file_extension": ".py",
   "mimetype": "text/x-python",
   "name": "python",
   "nbconvert_exporter": "python",
   "pygments_lexer": "ipython3",
   "version": "3.8.8"
  }
 },
 "nbformat": 4,
 "nbformat_minor": 5
}
